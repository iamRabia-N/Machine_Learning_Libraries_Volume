{
 "cells": [
  {
   "cell_type": "markdown",
   "id": "91b9c4e5",
   "metadata": {
    "execution": {
     "iopub.execute_input": "2023-10-14T08:07:47.820504Z",
     "iopub.status.busy": "2023-10-14T08:07:47.820020Z",
     "iopub.status.idle": "2023-10-14T08:07:47.825491Z",
     "shell.execute_reply": "2023-10-14T08:07:47.824634Z",
     "shell.execute_reply.started": "2023-10-14T08:07:47.820470Z"
    },
    "papermill": {
     "duration": 0.007748,
     "end_time": "2023-12-10T04:11:43.693011",
     "exception": false,
     "start_time": "2023-12-10T04:11:43.685263",
     "status": "completed"
    },
    "tags": []
   },
   "source": [
    "# Pandas Cheat Sheet | Data Manipulation and Analysis"
   ]
  },
  {
   "cell_type": "markdown",
   "id": "1ab90a93",
   "metadata": {
    "papermill": {
     "duration": 0.006738,
     "end_time": "2023-12-10T04:11:43.706947",
     "exception": false,
     "start_time": "2023-12-10T04:11:43.700209",
     "status": "completed"
    },
    "tags": []
   },
   "source": [
    "## Table of Contents\n",
    "\n",
    "1. [Importing Pandas](#1)\n",
    "2. [Data Structures](#2)\n",
    "   * [2.1. Series](#2.1)\n",
    "   * [2.2. DataFrame](#2.2)\n",
    "3. [Data Manipulation](#3)\n",
    "   * [3.1. Reading and Writing Data](#3.1)\n",
    "   * [3.2. Data Exploration](#3.2)\n",
    "   * [3.3. Data Cleaning](#3.3)\n",
    "   * [3.4. Data Selection](#3.4)\n",
    "   * [3.5. Data Filtering](#3.5)\n",
    "   * [3.6. Data Aggregation](#3.6)\n",
    "   * [3.7. Data Visualization](#3.7)\n",
    "4. [DataFrame Operations](#4)\n",
    "   * [4.1. Merge and Join](#4.1)\n",
    "   * [4.2. Reshaping](#4.2)\n",
    "   * [4.3. Pivoting](#4.3)\n",
    "5. [Time Series](#5)\n",
    "6. [Advanced Topics](#6)\n",
    "   * [6.1. Applying Functions](#6.1)\n",
    "   * [6.2. Custom Functions](#6.2)\n",
    "   * [6.3. Combining DataFrames](#6.3)"
   ]
  },
  {
   "cell_type": "markdown",
   "id": "492f4a01",
   "metadata": {
    "papermill": {
     "duration": 0.007163,
     "end_time": "2023-12-10T04:11:43.720988",
     "exception": false,
     "start_time": "2023-12-10T04:11:43.713825",
     "status": "completed"
    },
    "tags": []
   },
   "source": [
    "# Introduction to Pandas\n",
    "Pandas is a popular data manipulation library in Python. It provides data structures and functions for working with structured data, making it an essential tool for data analysis and manipulation. "
   ]
  },
  {
   "cell_type": "markdown",
   "id": "eed69080",
   "metadata": {
    "papermill": {
     "duration": 0.006827,
     "end_time": "2023-12-10T04:11:43.734993",
     "exception": false,
     "start_time": "2023-12-10T04:11:43.728166",
     "status": "completed"
    },
    "tags": []
   },
   "source": [
    "<a id = \"1\"></a>\n",
    "# 1. Importing Pandas\n",
    "Before you can start using Pandas, you need to import it into your Python environment. This can be done with a simple `import` statement."
   ]
  },
  {
   "cell_type": "code",
   "execution_count": 1,
   "id": "12753cab",
   "metadata": {
    "execution": {
     "iopub.execute_input": "2023-12-10T04:11:43.751068Z",
     "iopub.status.busy": "2023-12-10T04:11:43.750630Z",
     "iopub.status.idle": "2023-12-10T04:11:44.547449Z",
     "shell.execute_reply": "2023-12-10T04:11:44.546491Z"
    },
    "papermill": {
     "duration": 0.807784,
     "end_time": "2023-12-10T04:11:44.549990",
     "exception": false,
     "start_time": "2023-12-10T04:11:43.742206",
     "status": "completed"
    },
    "tags": []
   },
   "outputs": [],
   "source": [
    "import pandas as pd"
   ]
  },
  {
   "cell_type": "markdown",
   "id": "671e51c1",
   "metadata": {
    "papermill": {
     "duration": 0.006781,
     "end_time": "2023-12-10T04:11:44.564016",
     "exception": false,
     "start_time": "2023-12-10T04:11:44.557235",
     "status": "completed"
    },
    "tags": []
   },
   "source": [
    "<a id = \"2\"></a>\n",
    "# 2. Data Structures\n",
    "Pandas primarily deals with two main data structures: Series and DataFrame.\n",
    "\n",
    "<a id = \"2.1\"></a>\n",
    "### 2.1. Series\n",
    "A `Series` is a one-dimensional array-like object that can hold various data types. It is essentially a column in a spreadsheet or a single dataset. You can create a `Series` from a `list`, `array` or `dictionary`."
   ]
  },
  {
   "cell_type": "code",
   "execution_count": 2,
   "id": "1e9c332b",
   "metadata": {
    "execution": {
     "iopub.execute_input": "2023-12-10T04:11:44.579624Z",
     "iopub.status.busy": "2023-12-10T04:11:44.579139Z",
     "iopub.status.idle": "2023-12-10T04:11:44.586559Z",
     "shell.execute_reply": "2023-12-10T04:11:44.585675Z"
    },
    "papermill": {
     "duration": 0.0176,
     "end_time": "2023-12-10T04:11:44.588502",
     "exception": false,
     "start_time": "2023-12-10T04:11:44.570902",
     "status": "completed"
    },
    "tags": []
   },
   "outputs": [],
   "source": [
    "import pandas as pd\n",
    "\n",
    "data = [1, 2, 3, 4, 5]\n",
    "s = pd.Series(data)"
   ]
  },
  {
   "cell_type": "markdown",
   "id": "0b4ae581",
   "metadata": {
    "papermill": {
     "duration": 0.006777,
     "end_time": "2023-12-10T04:11:44.602339",
     "exception": false,
     "start_time": "2023-12-10T04:11:44.595562",
     "status": "completed"
    },
    "tags": []
   },
   "source": [
    "<a id = \"2.2\"></a>\n",
    "### 2.2. DataFrame\n",
    "A `DataFrame` is a two-dimensional table, similar to a spreadsheet. It consists of rows and columns, with each column being a `Series`. You can create a `DataFrame` from various data sources including `dictionaries`, `lists` or external files like CSV."
   ]
  },
  {
   "cell_type": "code",
   "execution_count": 3,
   "id": "aefc12da",
   "metadata": {
    "execution": {
     "iopub.execute_input": "2023-12-10T04:11:44.617935Z",
     "iopub.status.busy": "2023-12-10T04:11:44.617257Z",
     "iopub.status.idle": "2023-12-10T04:11:44.622414Z",
     "shell.execute_reply": "2023-12-10T04:11:44.621704Z"
    },
    "papermill": {
     "duration": 0.015009,
     "end_time": "2023-12-10T04:11:44.624251",
     "exception": false,
     "start_time": "2023-12-10T04:11:44.609242",
     "status": "completed"
    },
    "tags": []
   },
   "outputs": [],
   "source": [
    "data = {'Name': ['Alice', 'Bob', 'Charlie'], 'Age': [25, 30, 35]}\n",
    "df = pd.DataFrame(data)"
   ]
  },
  {
   "cell_type": "markdown",
   "id": "473398ae",
   "metadata": {
    "papermill": {
     "duration": 0.00665,
     "end_time": "2023-12-10T04:11:44.637999",
     "exception": false,
     "start_time": "2023-12-10T04:11:44.631349",
     "status": "completed"
    },
    "tags": []
   },
   "source": [
    "<a id = \"3\"></a>\n",
    "# 3. Data Manipulation\n",
    "Data manipulation is a crucial aspect of working with Pandas. It includes reading and writing data, data exploration, cleaning, selection, filtering, aggregation and visualization.\n",
    "\n",
    "<a id = \"3.1\"></a>\n",
    "### 3.1. Reading and Writing Data\n",
    "Pandas can read and write data from various sources like CSV, Excel, SQL databases and more."
   ]
  },
  {
   "cell_type": "code",
   "execution_count": null,
   "id": "59d41502",
   "metadata": {
    "execution": {
     "iopub.execute_input": "2023-12-10T04:11:44.653983Z",
     "iopub.status.busy": "2023-12-10T04:11:44.653093Z",
     "iopub.status.idle": "2023-12-10T04:11:45.320362Z",
     "shell.execute_reply": "2023-12-10T04:11:45.319117Z"
    },
    "papermill": {
     "duration": 0.676978,
     "end_time": "2023-12-10T04:11:45.321832",
     "exception": true,
     "start_time": "2023-12-10T04:11:44.644854",
     "status": "failed"
    },
    "tags": []
   },
   "outputs": [],
   "source": [
    "df = pd.read_csv('data.csv')   # Reading data from a CSV file\n",
    "df.to_csv('new_data.csv', index=False)  # Writing data to a CSV file"
   ]
  },
  {
   "cell_type": "markdown",
   "id": "e33fef1c",
   "metadata": {
    "papermill": {
     "duration": null,
     "end_time": null,
     "exception": null,
     "start_time": null,
     "status": "pending"
    },
    "tags": []
   },
   "source": [
    "<a id = \"3.2\"></a>\n",
    "### 3.2. Data Exploration\n",
    "Data exploration helps you get an overview of your dataset. It involves functions like `head()`, `tail()`, `describe()`, `info()`."
   ]
  },
  {
   "cell_type": "code",
   "execution_count": null,
   "id": "a6b151f2",
   "metadata": {
    "execution": {
     "iopub.status.busy": "2023-10-14T09:29:18.168098Z",
     "iopub.status.idle": "2023-10-14T09:29:18.168514Z",
     "shell.execute_reply": "2023-10-14T09:29:18.168359Z",
     "shell.execute_reply.started": "2023-10-14T09:29:18.168340Z"
    },
    "papermill": {
     "duration": null,
     "end_time": null,
     "exception": null,
     "start_time": null,
     "status": "pending"
    },
    "tags": []
   },
   "outputs": [],
   "source": [
    "df.head()   # Display the first 5 rows of a DataFrame\n",
    "df.tail()  # Display the last 5 rows of a DataFrame\n",
    "df.describe() # Generate summary statistics of the numeric columns of a DataFrame\n",
    "df.info()  # Display information about the DataFrame"
   ]
  },
  {
   "cell_type": "markdown",
   "id": "82599f92",
   "metadata": {
    "papermill": {
     "duration": null,
     "end_time": null,
     "exception": null,
     "start_time": null,
     "status": "pending"
    },
    "tags": []
   },
   "source": [
    "<a id = \"3.3\"></a>\n",
    "### 3.3. Data Cleaning\n",
    "Data cleaning involves handling missing values, duplicate data, and other issues. `dropna()`, `fillna()`, `drop_duplicates()` are frequently used function in data cleaning."
   ]
  },
  {
   "cell_type": "code",
   "execution_count": null,
   "id": "a993deb3",
   "metadata": {
    "execution": {
     "iopub.execute_input": "2023-10-14T09:29:18.177695Z",
     "iopub.status.busy": "2023-10-14T09:29:18.177363Z",
     "iopub.status.idle": "2023-10-14T09:29:18.199311Z",
     "shell.execute_reply": "2023-10-14T09:29:18.198446Z",
     "shell.execute_reply.started": "2023-10-14T09:29:18.177670Z"
    },
    "papermill": {
     "duration": null,
     "end_time": null,
     "exception": null,
     "start_time": null,
     "status": "pending"
    },
    "tags": []
   },
   "outputs": [],
   "source": [
    "df.dropna()   # Remove rows with missing values\n",
    "\n",
    "df.fillna(0)  # Fill missing values with a specified value\n",
    "df['Age'].fillna(df['Age'].mean(), inplace=True)  # Replace missing values with the mean of the column\n",
    "\n",
    "df.drop_duplicates()  # Remove duplicate rows"
   ]
  },
  {
   "cell_type": "markdown",
   "id": "5127c739",
   "metadata": {
    "papermill": {
     "duration": null,
     "end_time": null,
     "exception": null,
     "start_time": null,
     "status": "pending"
    },
    "tags": []
   },
   "source": [
    "<a id = \"3.4\"></a>\n",
    "### 3.4. Data Selection\n",
    "You can select specific rows and columns from a dataframe."
   ]
  },
  {
   "cell_type": "code",
   "execution_count": null,
   "id": "3a7a3c37",
   "metadata": {
    "execution": {
     "iopub.execute_input": "2023-10-14T09:29:18.214518Z",
     "iopub.status.busy": "2023-10-14T09:29:18.214168Z",
     "iopub.status.idle": "2023-10-14T09:29:18.290661Z",
     "shell.execute_reply": "2023-10-14T09:29:18.289015Z",
     "shell.execute_reply.started": "2023-10-14T09:29:18.214490Z"
    },
    "papermill": {
     "duration": null,
     "end_time": null,
     "exception": null,
     "start_time": null,
     "status": "pending"
    },
    "tags": []
   },
   "outputs": [],
   "source": [
    "df['Column']  # Select a single column\n",
    "df[['Column1', 'Column2']]  # Select multiple columns\n",
    "df.iloc[row_index, col_index]  # Select by index\n",
    "\n",
    "df[df['Column'] > 5]  # Select rows based on a condition\n",
    "df[(df['Column1'] > 5) & (df['Column2'] < 10)]  # Multiple conditions\n",
    "\n",
    "df.loc['Label']  # Label-based selection\n",
    "df.iloc[3]  # Integer-based selection\n",
    "\n",
    "# More advanced selection\n",
    "df.loc['Label', 'Column']\n",
    "df.iloc[2:4, 0:2]"
   ]
  },
  {
   "cell_type": "markdown",
   "id": "51f87a57",
   "metadata": {
    "papermill": {
     "duration": null,
     "end_time": null,
     "exception": null,
     "start_time": null,
     "status": "pending"
    },
    "tags": []
   },
   "source": [
    "<a id = \"3.5\"></a>\n",
    "### 3.5. Data Filtering\n",
    "Filtering allows you to create subsets of data based on conditions."
   ]
  },
  {
   "cell_type": "code",
   "execution_count": null,
   "id": "61659c50",
   "metadata": {
    "execution": {
     "iopub.status.busy": "2023-10-14T09:29:18.291678Z",
     "iopub.status.idle": "2023-10-14T09:29:18.292698Z",
     "shell.execute_reply": "2023-10-14T09:29:18.292446Z",
     "shell.execute_reply.started": "2023-10-14T09:29:18.292417Z"
    },
    "papermill": {
     "duration": null,
     "end_time": null,
     "exception": null,
     "start_time": null,
     "status": "pending"
    },
    "tags": []
   },
   "outputs": [],
   "source": [
    "# Filter data based on multiple conditions\n",
    "df[(df['Age'] > 30) & (df['Gender'] == 'Female')]"
   ]
  },
  {
   "cell_type": "markdown",
   "id": "73eb4cbb",
   "metadata": {
    "papermill": {
     "duration": null,
     "end_time": null,
     "exception": null,
     "start_time": null,
     "status": "pending"
    },
    "tags": []
   },
   "source": [
    "<a id = \"3.6\"></a>\n",
    "### 3.6. Data Aggregation\n",
    "Aggregation involves summarizing data using functions like `groupby()`, `sum()`, `mean()`, etc."
   ]
  },
  {
   "cell_type": "code",
   "execution_count": null,
   "id": "079950bf",
   "metadata": {
    "execution": {
     "iopub.execute_input": "2023-10-14T09:29:18.300985Z",
     "iopub.status.busy": "2023-10-14T09:29:18.300638Z",
     "iopub.status.idle": "2023-10-14T09:29:18.650321Z",
     "shell.execute_reply": "2023-10-14T09:29:18.647477Z",
     "shell.execute_reply.started": "2023-10-14T09:29:18.300960Z"
    },
    "papermill": {
     "duration": null,
     "end_time": null,
     "exception": null,
     "start_time": null,
     "status": "pending"
    },
    "tags": []
   },
   "outputs": [],
   "source": [
    "df.groupby('City')['Sales'].mean()     # Group data by a column and calculate the mean of another column\n",
    "df.groupby('Category')['Sales'].sum()  # Group data by a column and calculate the sum\n",
    "\n",
    "grouped['Column'].sum()\n",
    "\n",
    "grouped['Column'].mean()"
   ]
  },
  {
   "cell_type": "markdown",
   "id": "19ba09b9",
   "metadata": {
    "papermill": {
     "duration": null,
     "end_time": null,
     "exception": null,
     "start_time": null,
     "status": "pending"
    },
    "tags": []
   },
   "source": [
    "<a id = \"3.7\"></a>\n",
    "### 3.7. Data Visualization\n",
    "Pandas integrates with Matplotlib for data visualization."
   ]
  },
  {
   "cell_type": "code",
   "execution_count": null,
   "id": "12bd578c",
   "metadata": {
    "execution": {
     "iopub.status.busy": "2023-10-14T09:29:18.651614Z",
     "iopub.status.idle": "2023-10-14T09:29:18.652007Z",
     "shell.execute_reply": "2023-10-14T09:29:18.651836Z",
     "shell.execute_reply.started": "2023-10-14T09:29:18.651819Z"
    },
    "papermill": {
     "duration": null,
     "end_time": null,
     "exception": null,
     "start_time": null,
     "status": "pending"
    },
    "tags": []
   },
   "outputs": [],
   "source": [
    "import matplotlib.pyplot as plt\n",
    "\n",
    "\n",
    "df['Column'].plot(kind='bar')  # Basic plot\n",
    "\n",
    "df['Sales'].plot(kind='bar')   # Create a bar chart\n",
    "plt.show()\n",
    "\n",
    "df.plot(x='X', y='Y', title='Custom Plot', color='red')  # Customized plot"
   ]
  },
  {
   "cell_type": "markdown",
   "id": "89b0e272",
   "metadata": {
    "papermill": {
     "duration": null,
     "end_time": null,
     "exception": null,
     "start_time": null,
     "status": "pending"
    },
    "tags": []
   },
   "source": [
    "<a id = \"4\"></a>\n",
    "# 4. DataFrame Operations\n",
    "\n",
    "<a id = \"4.1\"></a>\n",
    "### 4.1. Merge and Join\n",
    "Merging and joining DataFrames is crucial for combining data from multiple sources."
   ]
  },
  {
   "cell_type": "code",
   "execution_count": null,
   "id": "e903fcd9",
   "metadata": {
    "execution": {
     "iopub.status.busy": "2023-10-14T09:29:18.654245Z",
     "iopub.status.idle": "2023-10-14T09:29:18.654803Z",
     "shell.execute_reply": "2023-10-14T09:29:18.654543Z",
     "shell.execute_reply.started": "2023-10-14T09:29:18.654518Z"
    },
    "papermill": {
     "duration": null,
     "end_time": null,
     "exception": null,
     "start_time": null,
     "status": "pending"
    },
    "tags": []
   },
   "outputs": [],
   "source": [
    "pd.merge(df1, df2, on='common_column')  # Merge two DataFrames on a common column"
   ]
  },
  {
   "cell_type": "markdown",
   "id": "a5a3c408",
   "metadata": {
    "papermill": {
     "duration": null,
     "end_time": null,
     "exception": null,
     "start_time": null,
     "status": "pending"
    },
    "tags": []
   },
   "source": [
    "<a id = \"4.2\"></a>\n",
    "### 4.2. Reshaping\n",
    "Reshaping involves pivoting, melting and stacking dataframes."
   ]
  },
  {
   "cell_type": "code",
   "execution_count": null,
   "id": "23cde689",
   "metadata": {
    "execution": {
     "iopub.status.busy": "2023-10-14T09:29:18.656718Z",
     "iopub.status.idle": "2023-10-14T09:29:18.657261Z",
     "shell.execute_reply": "2023-10-14T09:29:18.656998Z",
     "shell.execute_reply.started": "2023-10-14T09:29:18.656973Z"
    },
    "papermill": {
     "duration": null,
     "end_time": null,
     "exception": null,
     "start_time": null,
     "status": "pending"
    },
    "tags": []
   },
   "outputs": [],
   "source": [
    "pd.pivot_table(df, values='Value', index='Index', columns='Column')    # Pivot a DataFrame"
   ]
  },
  {
   "cell_type": "markdown",
   "id": "13d5aefe",
   "metadata": {
    "papermill": {
     "duration": null,
     "end_time": null,
     "exception": null,
     "start_time": null,
     "status": "pending"
    },
    "tags": []
   },
   "source": [
    "<a id = \"4.3\"></a>\n",
    "### 4.3. Pivoting\n",
    "Pivoting is used to transform data from long to wide format."
   ]
  },
  {
   "cell_type": "code",
   "execution_count": null,
   "id": "2877a547",
   "metadata": {
    "execution": {
     "iopub.status.busy": "2023-10-14T09:29:18.658649Z",
     "iopub.status.idle": "2023-10-14T09:29:18.659172Z",
     "shell.execute_reply": "2023-10-14T09:29:18.658915Z",
     "shell.execute_reply.started": "2023-10-14T09:29:18.658893Z"
    },
    "papermill": {
     "duration": null,
     "end_time": null,
     "exception": null,
     "start_time": null,
     "status": "pending"
    },
    "tags": []
   },
   "outputs": [],
   "source": [
    "df.pivot(index='Date', columns='Variable', values='Value')   # Pivot a long-format DataFrame to wide-format"
   ]
  },
  {
   "cell_type": "markdown",
   "id": "08a7ebab",
   "metadata": {
    "papermill": {
     "duration": null,
     "end_time": null,
     "exception": null,
     "start_time": null,
     "status": "pending"
    },
    "tags": []
   },
   "source": [
    "<a id = \"5\"></a>\n",
    "# 5. Time Series\n",
    "Pandas provides tools for working with time series data."
   ]
  },
  {
   "cell_type": "code",
   "execution_count": null,
   "id": "77ba25fe",
   "metadata": {
    "execution": {
     "iopub.status.busy": "2023-10-14T09:29:18.661023Z",
     "iopub.status.idle": "2023-10-14T09:29:18.661479Z",
     "shell.execute_reply": "2023-10-14T09:29:18.661315Z",
     "shell.execute_reply.started": "2023-10-14T09:29:18.661294Z"
    },
    "papermill": {
     "duration": null,
     "end_time": null,
     "exception": null,
     "start_time": null,
     "status": "pending"
    },
    "tags": []
   },
   "outputs": [],
   "source": [
    "df['Date'] = pd.to_datetime(df['Date'])   # Create a time series DataFrame"
   ]
  },
  {
   "cell_type": "markdown",
   "id": "0f472dbf",
   "metadata": {
    "papermill": {
     "duration": null,
     "end_time": null,
     "exception": null,
     "start_time": null,
     "status": "pending"
    },
    "tags": []
   },
   "source": [
    "<a id = \"6\"></a>\n",
    "# 6. Advanced Topics\n",
    "\n",
    "<a id = \"6.1\"></a>\n",
    "### 6.1. Applying Functions\n",
    "Apply custom functions to your data."
   ]
  },
  {
   "cell_type": "code",
   "execution_count": null,
   "id": "b14e3769",
   "metadata": {
    "execution": {
     "iopub.status.busy": "2023-10-14T09:29:18.662997Z",
     "iopub.status.idle": "2023-10-14T09:29:18.663476Z",
     "shell.execute_reply": "2023-10-14T09:29:18.663303Z",
     "shell.execute_reply.started": "2023-10-14T09:29:18.663284Z"
    },
    "papermill": {
     "duration": null,
     "end_time": null,
     "exception": null,
     "start_time": null,
     "status": "pending"
    },
    "tags": []
   },
   "outputs": [],
   "source": [
    "df['Age'] = df['Age'].apply(lambda x: x + 1)  # Apply a custom function to a column"
   ]
  },
  {
   "cell_type": "markdown",
   "id": "c63c3060",
   "metadata": {
    "papermill": {
     "duration": null,
     "end_time": null,
     "exception": null,
     "start_time": null,
     "status": "pending"
    },
    "tags": []
   },
   "source": [
    "<a id = \"6.2\"></a>\n",
    "### 6.2. Custom Functions\n",
    "Define custom functions for more complex data manipulation."
   ]
  },
  {
   "cell_type": "code",
   "execution_count": null,
   "id": "accc6178",
   "metadata": {
    "execution": {
     "iopub.status.busy": "2023-10-14T09:29:18.664885Z",
     "iopub.status.idle": "2023-10-14T09:29:18.665335Z",
     "shell.execute_reply": "2023-10-14T09:29:18.665076Z",
     "shell.execute_reply.started": "2023-10-14T09:29:18.665061Z"
    },
    "papermill": {
     "duration": null,
     "end_time": null,
     "exception": null,
     "start_time": null,
     "status": "pending"
    },
    "tags": []
   },
   "outputs": [],
   "source": [
    "def categorize_age(age):     # Define a custom function\n",
    "    if age < 30:\n",
    "        return 'Young'\n",
    "    else:\n",
    "        return 'Old'\n",
    "\n",
    "df['Age_Category'] = df['Age'].apply(categorize_age)   # Apply the custom function to a new column"
   ]
  },
  {
   "cell_type": "markdown",
   "id": "12abbcad",
   "metadata": {
    "papermill": {
     "duration": null,
     "end_time": null,
     "exception": null,
     "start_time": null,
     "status": "pending"
    },
    "tags": []
   },
   "source": [
    "<a id = \"6.3\"></a>\n",
    "### 6.3. Combining DataFrames\n",
    "Combine DataFrames horizontally or vertically."
   ]
  },
  {
   "cell_type": "code",
   "execution_count": null,
   "id": "3847121e",
   "metadata": {
    "execution": {
     "iopub.status.busy": "2023-10-14T09:29:18.666567Z",
     "iopub.status.idle": "2023-10-14T09:29:18.666933Z",
     "shell.execute_reply": "2023-10-14T09:29:18.666782Z",
     "shell.execute_reply.started": "2023-10-14T09:29:18.666765Z"
    },
    "papermill": {
     "duration": null,
     "end_time": null,
     "exception": null,
     "start_time": null,
     "status": "pending"
    },
    "tags": []
   },
   "outputs": [],
   "source": [
    "new_df = pd.concat([df1, df2], axis=0)   # Concatenate two DataFrames vertically"
   ]
  }
 ],
 "metadata": {
  "kaggle": {
   "accelerator": "none",
   "dataSources": [],
   "dockerImageVersionId": 30558,
   "isGpuEnabled": false,
   "isInternetEnabled": true,
   "language": "python",
   "sourceType": "notebook"
  },
  "kernelspec": {
   "display_name": "Python 3",
   "language": "python",
   "name": "python3"
  },
  "language_info": {
   "codemirror_mode": {
    "name": "ipython",
    "version": 3
   },
   "file_extension": ".py",
   "mimetype": "text/x-python",
   "name": "python",
   "nbconvert_exporter": "python",
   "pygments_lexer": "ipython3",
   "version": "3.10.12"
  },
  "papermill": {
   "default_parameters": {},
   "duration": 6.045941,
   "end_time": "2023-12-10T04:11:45.852326",
   "environment_variables": {},
   "exception": true,
   "input_path": "__notebook__.ipynb",
   "output_path": "__notebook__.ipynb",
   "parameters": {},
   "start_time": "2023-12-10T04:11:39.806385",
   "version": "2.4.0"
  }
 },
 "nbformat": 4,
 "nbformat_minor": 5
}
